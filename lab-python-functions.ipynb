{
 "cells": [
  {
   "cell_type": "markdown",
   "id": "25d7736c-ba17-4aff-b6bb-66eba20fbf4e",
   "metadata": {},
   "source": [
    "# Lab | Functions"
   ]
  },
  {
   "cell_type": "markdown",
   "id": "0c581062-8967-4d93-b06e-62833222f930",
   "metadata": {
    "tags": []
   },
   "source": [
    "## Exercise: Managing Customer Orders with Functions\n",
    "\n",
    "In the previous exercise, you improved the code for managing customer orders by using loops and flow control. Now, let's take it a step further and refactor the code by introducing functions.\n",
    "\n",
    "Follow the steps below to complete the exercise:\n",
    "\n",
    "1. Define a function named `initialize_inventory` that takes `products` as a parameter. Inside the function, implement the code for initializing the inventory dictionary using a loop and user input.\n",
    "\n",
    "2. Define a function named `get_customer_orders` that takes no parameters. Inside the function, implement the code for prompting the user to enter the product names using a loop. The function should return the `customer_orders` set.\n",
    "\n",
    "3. Define a function named `update_inventory` that takes `customer_orders` and `inventory` as parameters. Inside the function, implement the code for updating the inventory dictionary based on the customer orders.\n",
    "\n",
    "4. Define a function named `calculate_order_statistics` that takes `customer_orders` and `products` as parameters. Inside the function, implement the code for calculating the order statistics (total products ordered, and percentage of unique products ordered). The function should return these values.\n",
    "\n",
    "5. Define a function named `print_order_statistics` that takes `order_statistics` as a parameter. Inside the function, implement the code for printing the order statistics.\n",
    "\n",
    "6. Define a function named `print_updated_inventory` that takes `inventory` as a parameter. Inside the function, implement the code for printing the updated inventory.\n",
    "\n",
    "7. Call the functions in the appropriate sequence to execute the program and manage customer orders.\n",
    "\n",
    "Hints for functions:\n",
    "\n",
    "- Consider the input parameters required for each function and their return values.\n",
    "- Utilize function parameters and return values to transfer data between functions.\n",
    "- Test your functions individually to ensure they work correctly.\n",
    "\n",
    "\n"
   ]
  },
  {
   "cell_type": "code",
   "execution_count": 31,
   "id": "2177808f-50cd-4181-b3a2-f1159b921863",
   "metadata": {},
   "outputs": [
    {
     "name": "stdin",
     "output_type": "stream",
     "text": [
      "Please enter the quantity of t-shirt:  45\n",
      "Please enter the quantity of mug:  33\n",
      "Please enter the quantity of hat:  545\n",
      "Please enter the quantity of book:  33\n",
      "Please enter the quantity of keychain:  22\n"
     ]
    },
    {
     "data": {
      "text/plain": [
       "{'t-shirt': 45, 'mug': 33, 'hat': 545, 'book': 33, 'keychain': 22}"
      ]
     },
     "execution_count": 31,
     "metadata": {},
     "output_type": "execute_result"
    }
   ],
   "source": [
    "\n",
    "# 1. Define a function named initialize_inventory that takes products as a parameter. Inside the function, implement the code for initializing the inventory dictionary using a loop and user input.\n",
    "\n",
    "\n",
    "products = [\"t-shirt\", \"mug\", \"hat\", \"book\", \"keychain\"]\n",
    "inventory = {}\n",
    "def initialize_inventory(products):\n",
    "    \n",
    "    for product in products:\n",
    "        inventory[product]= int(input(f\"Please enter the quantity of {product}: \"))\n",
    "    return inventory\n",
    "    \n",
    "initialize_inventory(products)"
   ]
  },
  {
   "cell_type": "code",
   "execution_count": 27,
   "id": "4a10e480-dc15-4fb6-ae3a-20e8349ec95e",
   "metadata": {},
   "outputs": [
    {
     "name": "stdin",
     "output_type": "stream",
     "text": [
      "do you want to order 'yes/no':  yes\n",
      "enter the product you want to order:  mug\n",
      "do you want to order 'yes/no':  yes\n",
      "enter the product you want to order:  hat\n",
      "do you want to order 'yes/no':  n\n"
     ]
    },
    {
     "data": {
      "text/plain": [
       "{'hat', 'mug'}"
      ]
     },
     "execution_count": 27,
     "metadata": {},
     "output_type": "execute_result"
    }
   ],
   "source": [
    "\n",
    "#2.  Define a function named `get_customer_orders` that takes no parameters. Inside the function, implement the code for prompting the user to enter the product names using a loop. The function should return the `customer_orders` set.\n",
    "customer_orders = set()\n",
    "def get_customers_orders():\n",
    "    \n",
    "    while input(\"do you want to order 'yes/no': \") == 'yes':\n",
    "        new_item = input(f\"enter the product you want to order: \")\n",
    "        customer_orders.add(new_item)\n",
    "    return customer_orders\n",
    "\n",
    "get_customers_orders()"
   ]
  },
  {
   "cell_type": "code",
   "execution_count": 33,
   "id": "2b84c04f-9210-4ecf-b600-2769ebe6b83a",
   "metadata": {},
   "outputs": [
    {
     "data": {
      "text/plain": [
       "{'t-shirt': 45, 'mug': 32, 'hat': 544, 'book': 33, 'keychain': 22}"
      ]
     },
     "execution_count": 33,
     "metadata": {},
     "output_type": "execute_result"
    }
   ],
   "source": [
    "\n",
    "#3. Define a function named `update_inventory` that takes `customer_orders` and `inventory` as parameters. \n",
    "    #Inside the function, implement the code for updating the inventory dictionary based on the customer orders.\n",
    "\n",
    "def update_inventory(customer_orders, inventory):\n",
    "    for element in customer_orders:\n",
    "        inventory[element] -= 1 \n",
    "    return inventory\n",
    "\n",
    "update_inventory(customer_orders,inventory)\n",
    "    "
   ]
  },
  {
   "cell_type": "code",
   "execution_count": 75,
   "id": "02868b66-9773-43d7-85bc-a3abeec17be5",
   "metadata": {},
   "outputs": [
    {
     "data": {
      "text/plain": [
       "('Order statistics: Number of total products ordered: 2',\n",
       " 'percentage of unique products : 40.0%')"
      ]
     },
     "execution_count": 75,
     "metadata": {},
     "output_type": "execute_result"
    }
   ],
   "source": [
    "#4. Define a function named `calculate_order_statistics` that takes `customer_orders` and `products` as parameters. \n",
    "    #Inside the function, implement the code for calculating the order statistics (total products ordered, and percentage of unique products ordered). \n",
    "    #The function should return these values.\n",
    "\n",
    "def calculate_order_statistics(customer_orders, products):\n",
    "    total_products_ordered = len(customer_orders)\n",
    "    product_ordered_percentage = len(customer_orders)/len(products)*100\n",
    "  \n",
    "    return(f\"Order statistics: Number of total products ordered: {total_products_ordered}\", f\"percentage of unique products : {product_ordered_percentage}%\")\n",
    "calculate_order_statistics(customer_orders, products)   "
   ]
  },
  {
   "cell_type": "code",
   "execution_count": 77,
   "id": "f0bcfe2f-3871-4a29-b6e3-880821e59efb",
   "metadata": {},
   "outputs": [
    {
     "name": "stdout",
     "output_type": "stream",
     "text": [
      "('Order statistics: Number of total products ordered: 2', 'percentage of unique products : 40.0%')\n"
     ]
    }
   ],
   "source": [
    "# 5. Define a function named `print_order_statistics` that takes `order_statistics` as a parameter. \n",
    "     #Inside the function, implement the code for printing the order statistics.\n",
    "\n",
    "def print_order_statistics(calculate_order_statistics):\n",
    "    print(calculate_order_statistics(customer_orders,products))\n",
    "    return\n",
    "print_order_statistics(calculate_order_statistics)"
   ]
  },
  {
   "cell_type": "code",
   "execution_count": 97,
   "id": "66abc292-eaea-4358-9fe8-46397a95fb94",
   "metadata": {},
   "outputs": [
    {
     "name": "stdout",
     "output_type": "stream",
     "text": [
      "The updated inventory is: {'t-shirt': 12, 'mug': 12, 'hat': 10, 'book': 10, 'keychain': 12}\n"
     ]
    }
   ],
   "source": [
    " # 6. Define a function named `print_updated_inventory` that takes `inventory` as a parameter. \n",
    "      #Inside the function, implement the code for printing the updated inventory.\n",
    "\n",
    "def print_updated_inventory(inventory):\n",
    "    print(f\"The updated inventory is: {inventory}\")\n",
    "    return\n",
    "print_updated_inventory(inventory)\n",
    "\n"
   ]
  },
  {
   "cell_type": "code",
   "execution_count": null,
   "id": "4746680a-b426-4212-a7c7-687b91f27b9d",
   "metadata": {},
   "outputs": [],
   "source": [
    "# 7. Call the functions in the appropriate sequence to execute the program and manage customer orders.\n",
    "\n",
    "products = [\"t-shirt\", \"mug\", \"hat\", \"book\", \"keychain\"]\n",
    "inventory = {}\n",
    "customer_orders = set()\n",
    "\n",
    "initialize_inventory(products)\n",
    "get_customers_orders()\n",
    "update_inventory(customer_orders,inventory)\n",
    "calculate_order_statistics(customer_orders, products)\n",
    "print_order_statistics(calculate_order_statistics)\n",
    "print_updated_inventory(inventory)"
   ]
  },
  {
   "cell_type": "code",
   "execution_count": null,
   "id": "08cd90dd-6b9d-4cb7-9f8e-1cd123d327ee",
   "metadata": {},
   "outputs": [],
   "source": []
  }
 ],
 "metadata": {
  "kernelspec": {
   "display_name": "Python 3 (ipykernel)",
   "language": "python",
   "name": "python3"
  },
  "language_info": {
   "codemirror_mode": {
    "name": "ipython",
    "version": 3
   },
   "file_extension": ".py",
   "mimetype": "text/x-python",
   "name": "python",
   "nbconvert_exporter": "python",
   "pygments_lexer": "ipython3",
   "version": "3.11.7"
  }
 },
 "nbformat": 4,
 "nbformat_minor": 5
}
